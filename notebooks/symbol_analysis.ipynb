# Step 1: Import Necessary Libraries
import yfinance as yf
import pandas as pd
import logging

# Step 2: Set up logging
logging.basicConfig(level=logging.INFO)
logger = logging.getLogger(__name__)

# Step 3: Define a function to check symbol availability
def check_symbol_availability(symbols):
    """
    Check the availability of stock symbols using Yahoo Finance.

    Parameters:
    symbols (list): List of stock symbols to check.

    Returns:
    pd.DataFrame: DataFrame containing the symbol and its availability status.
    """
    results = []
    
    for symbol in symbols:
        try:
            ticker = yf.Ticker(symbol)
            info = ticker.info
            
            if 'symbol' in info:
                results.append({'Symbol': symbol, 'Available': True})
                logger.info(f"{symbol}: Available")
            else:
                results.append({'Symbol': symbol, 'Available': False})
                logger.warning(f"{symbol}: Not available")
        
        except Exception as e:
            results.append({'Symbol': symbol, 'Available': False})
            logger.error(f"{symbol}: Error - {str(e)}")
    
    return pd.DataFrame(results)

# Step 4: Define a list of symbols to check
symbols_to_check = ['AAPL', 'GOOGL', 'MSFT', 'INVALID', 'TSLA']  # Add your symbols here

# Step 5: Run the analysis
if __name__ == "__main__":
    logger.info("Starting symbol availability check...")
    availability_df = check_symbol_availability(symbols_to_check)
    
    # Step 6: Store results in a CSV file
    availability_df.to_csv('symbol_availability.csv', index=False)
    logger.info("Symbol availability check complete. Results saved to 'symbol_availability.csv'.")